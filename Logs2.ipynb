{
 "cells": [
  {
   "cell_type": "code",
   "execution_count": 43,
   "metadata": {},
   "outputs": [
    {
     "name": "stdout",
     "output_type": "stream",
     "text": [
      "The autotime extension is already loaded. To reload it, use:\n",
      "  %reload_ext autotime\n",
      "time: 34 ms\n"
     ]
    }
   ],
   "source": [
    "import pandas as pd\n",
    "import numpy as np\n",
    "import artm\n",
    "from tqdm import tqdm_notebook\n",
    "import time\n",
    "from proress_bar import log_progress\n",
    "%load_ext autotime"
   ]
  },
  {
   "cell_type": "code",
   "execution_count": 44,
   "metadata": {},
   "outputs": [
    {
     "name": "stdout",
     "output_type": "stream",
     "text": [
      "time: 41.6 s\n"
     ]
    }
   ],
   "source": [
    "with open('logs.txt') as f_in:\n",
    "    logs = f_in.readlines()"
   ]
  },
  {
   "cell_type": "code",
   "execution_count": 45,
   "metadata": {},
   "outputs": [
    {
     "name": "stdout",
     "output_type": "stream",
     "text": [
      "time: 13.7 s\n"
     ]
    }
   ],
   "source": [
    "small_logs = logs[::2]"
   ]
  },
  {
   "cell_type": "code",
   "execution_count": 52,
   "metadata": {},
   "outputs": [
    {
     "name": "stdout",
     "output_type": "stream",
     "text": [
      "time: 89.5 ms\n"
     ]
    }
   ],
   "source": [
    "small_logs = small_logs[::2]"
   ]
  },
  {
   "cell_type": "code",
   "execution_count": 53,
   "metadata": {},
   "outputs": [
    {
     "data": {
      "text/plain": [
       "1243423"
      ]
     },
     "execution_count": 53,
     "metadata": {},
     "output_type": "execute_result"
    },
    {
     "name": "stdout",
     "output_type": "stream",
     "text": [
      "time: 9.44 ms\n"
     ]
    }
   ],
   "source": [
    "len(small_logs)"
   ]
  },
  {
   "cell_type": "code",
   "execution_count": 54,
   "metadata": {},
   "outputs": [
    {
     "data": {
      "application/vnd.jupyter.widget-view+json": {
       "model_id": "b9e2ed7ba95049048677ac7f1000c894",
       "version_major": 2,
       "version_minor": 0
      },
      "text/plain": [
       "VBox(children=(HTML(value=''), IntProgress(value=0, max=1243423)))"
      ]
     },
     "metadata": {},
     "output_type": "display_data"
    },
    {
     "name": "stdout",
     "output_type": "stream",
     "text": [
      "time: 1.22 s\n"
     ]
    }
   ],
   "source": [
    "with open('small_log.txt', 'w') as f_out:\n",
    "    for i in log_progress(small_logs):\n",
    "        f_out.write(i)"
   ]
  },
  {
   "cell_type": "code",
   "execution_count": 55,
   "metadata": {},
   "outputs": [
    {
     "name": "stdout",
     "output_type": "stream",
     "text": [
      "time: 42 s\n"
     ]
    }
   ],
   "source": [
    "bach_vectorizer = artm.BatchVectorizer(data_path='small_log.txt',\n",
    "                                      data_format='vowpal_wabbit', target_folder='batch_small',\n",
    "                                      batch_size=20)"
   ]
  },
  {
   "cell_type": "code",
   "execution_count": 56,
   "metadata": {},
   "outputs": [
    {
     "name": "stdout",
     "output_type": "stream",
     "text": [
      "time: 2.83 s\n"
     ]
    }
   ],
   "source": [
    "T = 30   # количество тем\n",
    "topic_names=[\"sbj\"+str(i) for i in range(T-1)]+[\"bcg\"]\n",
    "\n",
    "model_artm = artm.ARTM(num_topics=T, topic_names=topic_names, reuse_theta=True,\n",
    "                       num_document_passes=1)"
   ]
  },
  {
   "cell_type": "code",
   "execution_count": 57,
   "metadata": {},
   "outputs": [
    {
     "data": {
      "text/plain": [
       "<generator object log_progress at 0x1166594f8>"
      ]
     },
     "execution_count": 57,
     "metadata": {},
     "output_type": "execute_result"
    },
    {
     "name": "stdout",
     "output_type": "stream",
     "text": [
      "time: 12.6 s\n"
     ]
    }
   ],
   "source": [
    "np.random.seed(1)\n",
    "dictionary = artm.Dictionary()\n",
    "log_progress(dictionary.gather(data_path=bach_vectorizer.data_path))\n",
    "log_progress(model_artm.initialize(dictionary))"
   ]
  },
  {
   "cell_type": "code",
   "execution_count": 58,
   "metadata": {},
   "outputs": [
    {
     "name": "stdout",
     "output_type": "stream",
     "text": [
      "time: 1.92 ms\n"
     ]
    }
   ],
   "source": [
    "model_artm.scores.add(artm.TopTokensScore(name='metric1', num_tokens=15))"
   ]
  },
  {
   "cell_type": "code",
   "execution_count": null,
   "metadata": {},
   "outputs": [
    {
     "name": "stdout",
     "output_type": "stream",
     "text": [
      "time: 1.31 ms\n"
     ]
    }
   ],
   "source": [
    "model_artm.regularizers.add(artm.SmoothSparsePhiRegularizer(name='smoothing', dictionary=dictionary,\n",
    "                                                         topic_names='bcg', tau=1e5))"
   ]
  },
  {
   "cell_type": "code",
   "execution_count": null,
   "metadata": {},
   "outputs": [],
   "source": [
    "model_artm.fit_offline(batch_vectorizer=bach_vectorizer, num_collection_passes=30)"
   ]
  },
  {
   "cell_type": "code",
   "execution_count": null,
   "metadata": {},
   "outputs": [],
   "source": [
    "model_artm.regularizers.add(artm.SmoothSparsePhiRegularizer(name='stimulates',\n",
    "                                                            dictionary=dictionary,\n",
    "                                                            topic_names=[\"sbj\"+str(i) for i in range(0, 29)], tau=-1e5))"
   ]
  },
  {
   "cell_type": "code",
   "execution_count": null,
   "metadata": {},
   "outputs": [],
   "source": [
    "model_artm.fit_offline(batch_vectorizer=bach_vectorizer, num_collection_passes=15)"
   ]
  },
  {
   "cell_type": "code",
   "execution_count": null,
   "metadata": {},
   "outputs": [],
   "source": [
    "for topic_name in model_artm.topic_names:\n",
    "    print (topic_name + ':')\n",
    "    for word in model_artm.score_tracker[\"metric1\"].last_tokens[topic_name]:\n",
    "        print(word, end=' ')\n",
    "    print()"
   ]
  },
  {
   "cell_type": "code",
   "execution_count": null,
   "metadata": {},
   "outputs": [],
   "source": []
  },
  {
   "cell_type": "code",
   "execution_count": null,
   "metadata": {},
   "outputs": [],
   "source": []
  }
 ],
 "metadata": {
  "kernelspec": {
   "display_name": "Python 3",
   "language": "python",
   "name": "python3"
  },
  "language_info": {
   "codemirror_mode": {
    "name": "ipython",
    "version": 3
   },
   "file_extension": ".py",
   "mimetype": "text/x-python",
   "name": "python",
   "nbconvert_exporter": "python",
   "pygments_lexer": "ipython3",
   "version": "3.7.1"
  }
 },
 "nbformat": 4,
 "nbformat_minor": 2
}
