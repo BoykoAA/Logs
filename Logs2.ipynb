{
 "cells": [
  {
   "cell_type": "code",
   "execution_count": 4,
   "metadata": {},
   "outputs": [],
   "source": [
    "import pandas as pd\n",
    "import numpy as np\n",
    "import artm\n",
    "from tqdm import tqdm_notebook\n",
    "import time"
   ]
  },
  {
   "cell_type": "code",
   "execution_count": 21,
   "metadata": {},
   "outputs": [],
   "source": [
    "with open('logs.txt') as f_in:\n",
    "    logs = f_in.readlines()"
   ]
  },
  {
   "cell_type": "code",
   "execution_count": 22,
   "metadata": {},
   "outputs": [],
   "source": [
    "small_logs = logs[::2]"
   ]
  },
  {
   "cell_type": "code",
   "execution_count": 32,
   "metadata": {},
   "outputs": [],
   "source": [
    "small_logs = small_logs[::2]"
   ]
  },
  {
   "cell_type": "code",
   "execution_count": 33,
   "metadata": {},
   "outputs": [
    {
     "data": {
      "text/plain": [
       "621712"
      ]
     },
     "execution_count": 33,
     "metadata": {},
     "output_type": "execute_result"
    }
   ],
   "source": [
    "len(small_logs)"
   ]
  },
  {
   "cell_type": "code",
   "execution_count": 34,
   "metadata": {},
   "outputs": [],
   "source": [
    "with open('small_log.txt', 'w') as f_out:\n",
    "    for i in (small_logs):\n",
    "        f_out.write(i)"
   ]
  },
  {
   "cell_type": "code",
   "execution_count": 35,
   "metadata": {
    "scrolled": true
   },
   "outputs": [],
   "source": [
    "bach_vectorizer = artm.BatchVectorizer(data_path='small_log.txt',\n",
    "                                      data_format='vowpal_wabbit', target_folder='batch_small',\n",
    "                                      batch_size=20)"
   ]
  },
  {
   "cell_type": "code",
   "execution_count": 36,
   "metadata": {},
   "outputs": [],
   "source": [
    "T = 30   # количество тем\n",
    "topic_names=[\"sbj\"+str(i) for i in range(T-1)]+[\"bcg\"]\n",
    "\n",
    "model_artm = artm.ARTM(num_topics=T, topic_names=topic_names, reuse_theta=True,\n",
    "                       num_document_passes=1)"
   ]
  },
  {
   "cell_type": "code",
   "execution_count": 38,
   "metadata": {},
   "outputs": [],
   "source": [
    "np.random.seed(1)\n",
    "dictionary = artm.Dictionary()\n",
    "dictionary.gather(data_path=bach_vectorizer.data_path)\n",
    "model_artm.initialize(dictionary)"
   ]
  },
  {
   "cell_type": "code",
   "execution_count": 39,
   "metadata": {},
   "outputs": [],
   "source": [
    "model_artm.scores.add(artm.TopTokensScore(name='metric1', num_tokens=15))"
   ]
  },
  {
   "cell_type": "code",
   "execution_count": 40,
   "metadata": {},
   "outputs": [],
   "source": [
    "model_artm.regularizers.add(artm.SmoothSparsePhiRegularizer(name='smoothing', dictionary=dictionary,\n",
    "                                                         topic_names='bcg', tau=1e5))"
   ]
  },
  {
   "cell_type": "code",
   "execution_count": 41,
   "metadata": {},
   "outputs": [],
   "source": [
    "model_artm.fit_offline(batch_vectorizer=bach_vectorizer, num_collection_passes=30)"
   ]
  },
  {
   "cell_type": "code",
   "execution_count": 42,
   "metadata": {},
   "outputs": [],
   "source": [
    "model_artm.regularizers.add(artm.SmoothSparsePhiRegularizer(name='stimulates',\n",
    "                                                            dictionary=dictionary,\n",
    "                                                            topic_names=[\"sbj\"+str(i) for i in range(0, 29)], tau=-1e5))"
   ]
  },
  {
   "cell_type": "code",
   "execution_count": 43,
   "metadata": {},
   "outputs": [],
   "source": [
    "model_artm.fit_offline(batch_vectorizer=bach_vectorizer, num_collection_passes=15)"
   ]
  },
  {
   "cell_type": "code",
   "execution_count": 44,
   "metadata": {},
   "outputs": [
    {
     "name": "stdout",
     "output_type": "stream",
     "text": [
      "sbj0:\n",
      "отзывы инструкция яндекс инстаграм каталог телефон мтс com применению работа работы то рецепт город когда \n",
      "sbj1:\n",
      "и фильм о я 3 при 2017 песни или инструкция во тв снять чем какой \n",
      "sbj2:\n",
      "цена магазин интернет мир матч музыка нет samsung песня рождения мой ты замена шоу размер \n",
      "sbj3:\n",
      "ютуб метро курс схема википедия елена почему видеохостинг работает доллара платье новосибирске лето лучшие быть \n",
      "sbj4:\n",
      "купить 5 цена отзывы москва расписание инструкция цены дом лет применению 8 москвы новгород сочи \n",
      "sbj5:\n",
      "сайт официальный личный кабинет это ru за 10 кто или вход www ржд 11 читать \n",
      "sbj6:\n",
      "от 3 ру сезон майл 8 области про почта рф серия время сделать 12 ремонт \n",
      "sbj7:\n",
      "2018 из россия июня хорватия июля сериал кто инструкция википедия года екатеринбург испания применению 14 \n",
      "sbj8:\n",
      "с порно видео до 6 телефон рецепт игра 18 инстаграм аниме майнкрафт торт 06 характеристики \n",
      "sbj9:\n",
      "скачать секс магазин интернет песня игры музыку the район песню of стоимость девушка во d0 \n",
      "sbj10:\n",
      "в на для 2018 по онлайн с и порно скачать как смотреть сайт бесплатно официальный \n",
      "sbj11:\n",
      "как купить одноклассники 5 моя страница 4 7 за ру где вконтакте через яндекс а \n",
      "sbj12:\n",
      "в на сайт официальный с погода фото 1 отзывы вк 4 авито расписание о москва \n",
      "sbj13:\n",
      "ru почта россии про яндекс спб mail цены вход 12 а 24 отслеживание com когда \n",
      "sbj14:\n",
      "порно смотреть видео это все о сериал 4 инструкция 7 моя русское программа тв слушать \n",
      "sbj15:\n",
      "в на как по и с 2018 скачать погода купить бесплатно 2 из 1 не \n",
      "sbj16:\n",
      "и что фото это у ли цена можно при если такое секс делать без 6 \n",
      "sbj17:\n",
      "ru 6 цена после http c детей d 13 индекс t квартиру www 9 https \n",
      "sbj18:\n",
      "онлайн фильм фото 2017 слушать сбербанк 10 радио игры тв спб переводчик екатеринбург бизнес город \n",
      "sbj19:\n",
      "район инструкция применению образец d б s сеть д елена голая социальная отдыха квартир ул \n",
      "sbj20:\n",
      "фото сколько видео слушать песни каталог про ютуб стоит спб со ооо товаров м новинки \n",
      "sbj21:\n",
      "на по 2018 с как онлайн скачать сайт смотреть официальный фильм футболу что мира чм \n",
      "sbj22:\n",
      "интернет магазин футбол игра человек санкт сделать петербург сериалы детская русская красный уругвай краснодар аренда \n",
      "sbj23:\n",
      "на для игры 10 за детей при где какой почта лет майл россии банк цены \n",
      "sbj24:\n",
      "для скачать 2 сериал 4 все торрент москва песню серия во инстаграм лет хорватия песня \n",
      "sbj25:\n",
      "в 2018 и онлайн порно смотреть как с бесплатно фильм 2 купить 1 из вк \n",
      "sbj26:\n",
      "карта кто номер метро схема эротика телефона рецепт владимир об ооо youtube под образец любовь \n",
      "sbj27:\n",
      "от 2 5 цена личный кабинет сезон чем кто вакансии 20 где ваз канал автобус \n",
      "sbj28:\n",
      "к это ru ру почему the работа делать александр адреса код врачу анал текст запись \n",
      "bcg:\n",
      "в на для по 2018 и с порно как онлайн смотреть скачать сайт что официальный \n"
     ]
    }
   ],
   "source": [
    "for topic_name in model_artm.topic_names:\n",
    "    print (topic_name + ':')\n",
    "    for word in model_artm.score_tracker[\"metric1\"].last_tokens[topic_name]:\n",
    "        print(word, end=' ')\n",
    "    print()"
   ]
  },
  {
   "cell_type": "code",
   "execution_count": null,
   "metadata": {},
   "outputs": [],
   "source": []
  },
  {
   "cell_type": "code",
   "execution_count": null,
   "metadata": {},
   "outputs": [],
   "source": []
  }
 ],
 "metadata": {
  "kernelspec": {
   "display_name": "Python 3",
   "language": "python",
   "name": "python3"
  },
  "language_info": {
   "codemirror_mode": {
    "name": "ipython",
    "version": 3
   },
   "file_extension": ".py",
   "mimetype": "text/x-python",
   "name": "python",
   "nbconvert_exporter": "python",
   "pygments_lexer": "ipython3",
   "version": "3.6.4"
  }
 },
 "nbformat": 4,
 "nbformat_minor": 2
}
